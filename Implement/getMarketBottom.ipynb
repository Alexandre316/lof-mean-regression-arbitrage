{
 "cells": [
  {
   "cell_type": "code",
   "execution_count": 1,
   "id": "b8db7be9",
   "metadata": {
    "ExecuteTime": {
     "end_time": "2022-04-14T02:35:57.892381Z",
     "start_time": "2022-04-14T02:35:57.223297Z"
    }
   },
   "outputs": [],
   "source": [
    "import numpy as np\n",
    "import pandas as pd"
   ]
  },
  {
   "cell_type": "code",
   "execution_count": 2,
   "id": "a7ed56d5",
   "metadata": {
    "ExecuteTime": {
     "end_time": "2022-04-14T02:35:57.908293Z",
     "start_time": "2022-04-14T02:35:57.895298Z"
    }
   },
   "outputs": [],
   "source": [
    "import os \n",
    "os.chdir(\"../\")"
   ]
  },
  {
   "cell_type": "markdown",
   "id": "431af140",
   "metadata": {},
   "source": [
    "#### 1.数据导入"
   ]
  },
  {
   "cell_type": "code",
   "execution_count": 3,
   "id": "b31bd0f1",
   "metadata": {
    "ExecuteTime": {
     "end_time": "2022-04-14T02:35:59.201293Z",
     "start_time": "2022-04-14T02:35:57.911307Z"
    }
   },
   "outputs": [],
   "source": [
    "# 净值、价格和成交量数据\n",
    "lof_open = pd.read_csv(\"./Data/LOF开盘价.CSV\",index_col = 0)\n",
    "lof_close = pd.read_csv(\"./Data/LOF收盘价.CSV\",index_col = 0)\n",
    "lof_high = pd.read_csv(\"./Data/LOF最高价.CSV\",index_col = 0)\n",
    "lof_low = pd.read_csv(\"./Data/LOF最低价.CSV\",index_col = 0)\n",
    "lof_nav = pd.read_csv(\"./Data/LOF复权净值.CSV\",index_col = 0)\n",
    "lof_volume = pd.read_csv(\"./Data/LOF成交量.CSV\",index_col = 0)"
   ]
  },
  {
   "cell_type": "code",
   "execution_count": 4,
   "id": "2dd16002",
   "metadata": {
    "ExecuteTime": {
     "end_time": "2022-04-14T02:35:59.233293Z",
     "start_time": "2022-04-14T02:35:59.205293Z"
    }
   },
   "outputs": [],
   "source": [
    "# 将SZ,SH结尾的场内LOF转换成OF结尾的\n",
    "lof_open.columns = lof_open.columns.map(lambda x:x[:6]+\".OF\")\n",
    "lof_close.columns = lof_close.columns.map(lambda x:x[:6]+\".OF\")\n",
    "lof_high.columns = lof_high.columns.map(lambda x:x[:6]+\".OF\")\n",
    "lof_low.columns = lof_low.columns.map(lambda x:x[:6]+\".OF\")\n",
    "lof_nav.columns = lof_nav.columns.map(lambda x:x[:6]+\".OF\")\n",
    "lof_volume.columns = lof_volume.columns.map(lambda x:x[:6]+\".OF\")"
   ]
  },
  {
   "cell_type": "code",
   "execution_count": 5,
   "id": "039a0452",
   "metadata": {
    "ExecuteTime": {
     "end_time": "2022-04-14T02:35:59.265300Z",
     "start_time": "2022-04-14T02:35:59.237296Z"
    }
   },
   "outputs": [],
   "source": [
    "lof_open.index = pd.to_datetime(lof_open.index)\n",
    "lof_close.index = pd.to_datetime(lof_close.index)\n",
    "lof_high.index = pd.to_datetime(lof_high.index)\n",
    "lof_low.index = pd.to_datetime(lof_low.index)\n",
    "lof_nav.index = pd.to_datetime(lof_nav.index)\n",
    "lof_volume.index = pd.to_datetime(lof_volume.index)"
   ]
  },
  {
   "cell_type": "code",
   "execution_count": 6,
   "id": "c1c9a1b1",
   "metadata": {
    "ExecuteTime": {
     "end_time": "2022-04-14T02:36:01.900459Z",
     "start_time": "2022-04-14T02:35:59.270296Z"
    }
   },
   "outputs": [],
   "source": [
    "# 导入到期日数据\n",
    "maturity_period = pd.read_excel(\"./Output/MaturePeriod.xlsx\",index_col = 0)"
   ]
  },
  {
   "cell_type": "code",
   "execution_count": 7,
   "id": "6784565f",
   "metadata": {
    "ExecuteTime": {
     "end_time": "2022-04-14T02:36:29.308351Z",
     "start_time": "2022-04-14T02:36:01.906294Z"
    }
   },
   "outputs": [],
   "source": [
    "# 导入申购状态数据\n",
    "redemption_status = pd.read_excel(\"./Data/RedemptionStatus.xlsx\",index_col = 0)\n",
    "subscribe_status = pd.read_excel(\"./Data/SubscribeStatus.xlsx\",index_col = 0)"
   ]
  },
  {
   "cell_type": "code",
   "execution_count": 8,
   "id": "efb22689",
   "metadata": {
    "ExecuteTime": {
     "end_time": "2022-04-14T02:36:29.355535Z",
     "start_time": "2022-04-14T02:36:29.311290Z"
    }
   },
   "outputs": [],
   "source": [
    "redemption_status.drop(\"F_INFO_WINDNAME\",axis = 1,inplace = True)\n",
    "subscribe_status.drop(\"F_INFO_WINDNAME\",axis = 1,inplace = True)"
   ]
  },
  {
   "cell_type": "markdown",
   "id": "db66e0e3",
   "metadata": {},
   "source": [
    "#### 2.获取300个交易日的相对底部"
   ]
  },
  {
   "cell_type": "code",
   "execution_count": 9,
   "id": "c95050e8",
   "metadata": {
    "ExecuteTime": {
     "end_time": "2022-04-14T02:36:29.371461Z",
     "start_time": "2022-04-14T02:36:29.360298Z"
    }
   },
   "outputs": [],
   "source": [
    "start_date = pd.to_datetime(\"2014-01-01\")\n",
    "end_date = pd.to_datetime(\"2022-03-29\")\n",
    "\n",
    "target_percentage = 15\n",
    "backward_days = 150"
   ]
  },
  {
   "cell_type": "code",
   "execution_count": 10,
   "id": "86e57900",
   "metadata": {
    "ExecuteTime": {
     "end_time": "2022-04-14T02:36:29.402413Z",
     "start_time": "2022-04-14T02:36:29.379302Z"
    }
   },
   "outputs": [],
   "source": [
    "bottom_info = pd.DataFrame(index = redemption_status.index,columns = redemption_status.loc[:,start_date:end_date].columns,data = False)"
   ]
  },
  {
   "cell_type": "code",
   "execution_count": 11,
   "id": "0a78bdd2",
   "metadata": {
    "ExecuteTime": {
     "end_time": "2022-04-14T02:46:45.996015Z",
     "start_time": "2022-04-14T02:36:29.405305Z"
    }
   },
   "outputs": [],
   "source": [
    "for tmp_date in lof_close.loc[start_date:,:].index: # 是购买日\n",
    "    for tmp_lof in lof_close.columns:\n",
    "        price_length = len(lof_close.loc[:tmp_date,tmp_lof].dropna().iloc[-backward_days:])\n",
    "        if price_length < backward_days:\n",
    "            continue\n",
    "#         print(lof_close.loc[:tmp_date,tmp_lof].dropna().iloc[-151:-1]) # 除去当前交易日的前150个有价格的数据\n",
    "        tmp_price = lof_close.loc[:tmp_date,tmp_lof].dropna().iloc[-1] # 当前交易日前一个交易日的收盘价\n",
    "        tmp_target_pct_value = np.percentile(lof_close.loc[:tmp_date,tmp_lof].dropna().iloc[-backward_days:],target_percentage)\n",
    "        if tmp_price <= tmp_target_pct_value:\n",
    "            bottom_info.loc[tmp_lof,tmp_date] = True"
   ]
  },
  {
   "cell_type": "code",
   "execution_count": 12,
   "id": "94e6a2be",
   "metadata": {
    "ExecuteTime": {
     "end_time": "2022-04-14T02:47:02.978815Z",
     "start_time": "2022-04-14T02:46:46.000017Z"
    }
   },
   "outputs": [],
   "source": [
    "bottom_info.to_excel(\"./Output/BottomInfo.xlsx\")"
   ]
  }
 ],
 "metadata": {
  "kernelspec": {
   "display_name": "Python 3 (ipykernel)",
   "language": "python",
   "name": "python3"
  },
  "language_info": {
   "codemirror_mode": {
    "name": "ipython",
    "version": 3
   },
   "file_extension": ".py",
   "mimetype": "text/x-python",
   "name": "python",
   "nbconvert_exporter": "python",
   "pygments_lexer": "ipython3",
   "version": "3.9.7"
  }
 },
 "nbformat": 4,
 "nbformat_minor": 5
}
